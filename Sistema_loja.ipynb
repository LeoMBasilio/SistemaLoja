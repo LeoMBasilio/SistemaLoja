{
  "nbformat": 4,
  "nbformat_minor": 0,
  "metadata": {
    "colab": {
      "provenance": [],
      "authorship_tag": "ABX9TyOA97Z3geMP1bJ+4ROYwmxx",
      "include_colab_link": true
    },
    "kernelspec": {
      "name": "python3",
      "display_name": "Python 3"
    },
    "language_info": {
      "name": "python"
    }
  },
  "cells": [
    {
      "cell_type": "markdown",
      "metadata": {
        "id": "view-in-github",
        "colab_type": "text"
      },
      "source": [
        "<a href=\"https://colab.research.google.com/github/LeoMBasilio/SistemaLoja/blob/main/Sistema_loja.ipynb\" target=\"_parent\"><img src=\"https://colab.research.google.com/assets/colab-badge.svg\" alt=\"Open In Colab\"/></a>"
      ]
    },
    {
      "cell_type": "code",
      "execution_count": null,
      "metadata": {
        "id": "MelMkv_Z1L1X"
      },
      "outputs": [],
      "source": [
        "import sqlite3\n",
        "import random\n",
        "import uuid\n",
        "\n",
        "def GuidGen():\n",
        "    return str(uuid.uuid4())\n",
        "\n",
        "def ConnDB():\n",
        "    return sqlite3.connect('loja.db')\n",
        "\n",
        "def GenUser(index):\n",
        "    return f'Usuario{index}'\n",
        "\n",
        "def GenProduct(index):\n",
        "    return f'Produto{index}'\n",
        "\n",
        "def inserirdados(cursor):\n",
        "\n",
        "    for i in range(1, 31):\n",
        "        nome = GenUser(i)\n",
        "        email = f'{nome.lower()}@example.com'\n",
        "        senha = f'senha{i}'\n",
        "        cursor.execute('''\n",
        "        INSERT INTO usuarios (id, nome, email, senha)\n",
        "        VALUES (?, ?, ?, ?)''', (GuidGen(), nome, email, senha))\n",
        "\n",
        "    for j in range(1, 41):\n",
        "        nome = GenProduct(j)\n",
        "        descricao = f'Descricao do {nome}'\n",
        "        preco = round(random.uniform(10.0, 1000.0), 2)\n",
        "        quantidade = random.randint(1, 50)\n",
        "        cursor.execute('''\n",
        "        INSERT INTO produtos (id, nome, descricao, preco, quantidade)\n",
        "        VALUES (?, ?, ?, ?, ?)''', (GuidGen(), nome, descricao, preco, quantidade))\n",
        "\n",
        "def CreateDataBase(conn):\n",
        "\n",
        "    cursor = conn.cursor()\n",
        "\n",
        "    cursor.execute('''\n",
        "        CREATE TABLE IF NOT EXISTS usuarios (\n",
        "            id TEXT PRIMARY KEY,\n",
        "            nome TEXT NOT NULL,\n",
        "            email TEXT NOT NULL,\n",
        "            senha TEXT NOT NULL\n",
        "        )\n",
        "    ''')\n",
        "\n",
        "    cursor.execute('''\n",
        "        CREATE TABLE IF NOT EXISTS produtos (\n",
        "            id TEXT PRIMARY KEY,\n",
        "            nome TEXT NOT NULL,\n",
        "            descricao TEXT,\n",
        "            preco REAL NOT NULL,\n",
        "            quantidade INTEGER NOT NULL\n",
        "        )\n",
        "    ''')\n",
        "\n",
        "\n",
        "    if cursor.execute('SELECT name FROM sqlite_master WHERE type=\"table\" AND name=\"usuarios\"').fetchone() is None and cursor.execute('SELECT name FROM sqlite_master WHERE type=\"table\" AND name=\"produtos\"').fetchone() is None :\n",
        "      if cursor.execute('SELECT COUNT(*) FROM usuarios').fetchone()[0] == 0 and cursor.execute('SELECT COUNT(*) FROM produtos').fetchone()[0] == 0:\n",
        "        inserirdados(cursor)\n",
        "\n",
        "    conn.commit()\n",
        "\n",
        "def main():\n",
        "    conn = ConnDB()\n",
        "\n",
        "    CreateDataBase(conn)\n",
        "\n",
        "    cursor = conn.cursor()\n",
        "\n",
        "    cursor.execute('SELECT * FROM produtos')\n",
        "\n",
        "    print(cursor.fetchall())\n",
        "\n",
        "    conn.close()\n",
        "\n",
        "if __name__ == \"__main__\":\n",
        "    main()"
      ]
    }
  ]
}